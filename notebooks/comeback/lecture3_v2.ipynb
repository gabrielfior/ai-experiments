{
 "cells": [
  {
   "cell_type": "code",
   "execution_count": 5,
   "id": "4394be07",
   "metadata": {},
   "outputs": [],
   "source": [
    "import torch\n",
    "from utils import fetch_words\n",
    "import torch.nn.functional as F\n",
    "import matplotlib.pyplot as plt\n",
    "%matplotlib inline"
   ]
  },
  {
   "cell_type": "code",
   "execution_count": 3,
   "id": "f27e8b2b",
   "metadata": {},
   "outputs": [],
   "source": [
    "# architecture\n",
    "# input word (one-hot encoded), plucks out one row from lookup table\n",
    "# C - input (17,000 x 30) - hence we have 90 neurons in total on that layer (30 per word) (matrix C shared across words)\n",
    "# 1 hidden layer (hyperpameter size), let's say 100 neurons\n",
    "# 1 output layer (17,000 neurons) - each neuron corresponds to one word in the vocabulary\n",
    "# softmax to get probabilities\n",
    "# loss function - negative log likelihood (NLL) of the correct word"
   ]
  },
  {
   "cell_type": "code",
   "execution_count": 7,
   "id": "e14954fe",
   "metadata": {},
   "outputs": [
    {
     "name": "stdout",
     "output_type": "stream",
     "text": [
      "['emma', 'olivia', 'ava', 'isabella', 'sophia', 'charlotte', 'mia', 'amelia'] 32033\n"
     ]
    }
   ],
   "source": [
    "words = fetch_words()\n",
    "print(words[:8], len(words))"
   ]
  },
  {
   "cell_type": "code",
   "execution_count": 11,
   "id": "fa25df79",
   "metadata": {},
   "outputs": [
    {
     "name": "stdout",
     "output_type": "stream",
     "text": [
      "{1: 'a', 2: 'b', 3: 'c', 4: 'd', 5: 'e', 6: 'f', 7: 'g', 8: 'h', 9: 'i', 10: 'j', 11: 'k', 12: 'l', 13: 'm', 14: 'n', 15: 'o', 16: 'p', 17: 'q', 18: 'r', 19: 's', 20: 't', 21: 'u', 22: 'v', 23: 'w', 24: 'x', 25: 'y', 26: 'z', 0: '.'}\n"
     ]
    }
   ],
   "source": [
    "chars = sorted(list(set(''.join(words))))\n",
    "stoi = {s:i+1 for i,s in enumerate(chars)}\n",
    "stoi['.'] = 0\n",
    "itos = {i:s for s,i in stoi.items()}\n",
    "vocab_size = len(itos)\n",
    "print(itos)"
   ]
  },
  {
   "cell_type": "code",
   "execution_count": 160,
   "id": "8260c572",
   "metadata": {},
   "outputs": [],
   "source": [
    "# build the dataset\n",
    "\n",
    "block_size = 3 # context length: how many characters do we take to predict the next one?\n",
    "X,Y = [], []\n",
    "for w in words:\n",
    "    context = [0] * block_size\n",
    "    for ch in w + '.':\n",
    "        ix = stoi[ch]\n",
    "        X.append(context)\n",
    "        Y.append(ix)\n",
    "        #print(''.join(itos[i] for i in context), '--->', itos[ix])\n",
    "        context = context[1:] + [ix] # crop and append\n",
    "\n",
    "X = torch.tensor(X)\n",
    "Y = torch.tensor(Y)"
   ]
  },
  {
   "cell_type": "code",
   "execution_count": 161,
   "id": "9d0c3a7d",
   "metadata": {},
   "outputs": [
    {
     "name": "stdout",
     "output_type": "stream",
     "text": [
      "torch.Size([228146, 3]) torch.Size([228146])\n"
     ]
    }
   ],
   "source": [
    "#print(X.shape, Y.shape)\n",
    "print(X.shape, Y.shape)"
   ]
  },
  {
   "cell_type": "code",
   "execution_count": 38,
   "id": "fc8ce22e",
   "metadata": {},
   "outputs": [],
   "source": [
    "# X,Y = [], []\n",
    "# for w in words[:2]:\n",
    "#     print(f'{w}')\n",
    "#     context_char = ['.','.','.']\n",
    "#     for char in w + '.': # :[.]\n",
    "#         print(f'{context_char} -> {char}')\n",
    "#         target_idx = stoi[char]\n",
    "#         Y.append(target_idx)\n",
    "\n",
    "#         context_char.pop(0)\n",
    "#         context_char.append(char)\n",
    "#         # convert context into indices\n",
    "#         context_idx = [stoi[i] for i in context_char]\n",
    "#         X.append(context_idx)\n",
    "        \n",
    "# print(torch.tensor(X))\n",
    "# print(Y)\n"
   ]
  },
  {
   "cell_type": "code",
   "execution_count": 255,
   "id": "5ce95449",
   "metadata": {},
   "outputs": [
    {
     "name": "stdout",
     "output_type": "stream",
     "text": [
      "11897\n"
     ]
    }
   ],
   "source": [
    "# let's build lookup table C\n",
    "g = torch.Generator().manual_seed(2147483647)\n",
    "embedding_dim = 10\n",
    "hidden_size = 200\n",
    "C = torch.randn((vocab_size, embedding_dim), generator=g) # 30 is embedding dimension\n",
    "W1 = torch.randn((embedding_dim * 3, hidden_size), generator=g) # 100 is hidden layer size\n",
    "b1 = torch.randn(hidden_size, generator=g)\n",
    "W2 = torch.randn((hidden_size, vocab_size), generator=g)\n",
    "b2 = torch.randn(vocab_size, generator=g)\n",
    "parameters = [C, W1, b1, W2, b2]\n",
    "print(sum(p.nelement() for p in parameters))"
   ]
  },
  {
   "cell_type": "code",
   "execution_count": 256,
   "id": "a30382ad",
   "metadata": {},
   "outputs": [],
   "source": [
    "for p in parameters:\n",
    "    p.requires_grad = True"
   ]
  },
  {
   "cell_type": "code",
   "execution_count": 257,
   "id": "17bd904e",
   "metadata": {},
   "outputs": [],
   "source": [
    "# # forward pass\n",
    "# for i in range(10):\n",
    "#     emb = C[X] # (32, 3, 2)\n",
    "#     h = torch.tanh(emb.view(-1, 6) @ W1 + b1) # (32, 100)\n",
    "#     logits = h @ W2 + b2 # (32, 27)\n",
    "#     loss = F.cross_entropy(logits, Y) # softmax + NLL\n",
    "#     print(f'{loss.item()=}')\n",
    "#     # backward pass\n",
    "#     for p in [C, W1, b1, W2, b2]:\n",
    "#         p.grad = None\n",
    "\n",
    "#     loss.backward()\n",
    "\n",
    "#     with torch.no_grad():\n",
    "#         for p in parameters:\n",
    "#             p -= 0.1 * p.grad\n",
    "\n"
   ]
  },
  {
   "cell_type": "code",
   "execution_count": 258,
   "id": "16ba2108",
   "metadata": {},
   "outputs": [],
   "source": [
    "# it's too much work to train all the data at once, let's do mini-batches"
   ]
  },
  {
   "cell_type": "code",
   "execution_count": 259,
   "id": "e3851566",
   "metadata": {},
   "outputs": [
    {
     "data": {
      "text/plain": [
       "tensor([155794,  98351, 143565,  34952, 162511, 198043, 109692, 203804, 109755,\n",
       "         13475, 211616, 141736, 228099, 126123, 101296, 192371, 227495,   6697,\n",
       "         93427,  52957, 174545, 151038,  85910,  23906,  68804,  92553,   5938,\n",
       "        218031,  80304, 158526, 151283,  46793])"
      ]
     },
     "execution_count": 259,
     "metadata": {},
     "output_type": "execute_result"
    }
   ],
   "source": [
    "batch_size = 32 # how many examples to process at once\n",
    "indices = torch.randint(0, X.shape[0], (batch_size,), generator=g)\n",
    "indices"
   ]
  },
  {
   "cell_type": "code",
   "execution_count": 260,
   "id": "3dc133ec",
   "metadata": {},
   "outputs": [],
   "source": [
    "# lets find the optimal learning rate\n",
    "# it's somewhere between (1e-3, 1) -> use exponentially spaced learning rates rates\n",
    "lre = torch.linspace(-3, 0, 1000)\n",
    "lrs = 10**lre"
   ]
  },
  {
   "cell_type": "code",
   "execution_count": 261,
   "id": "23013f7a",
   "metadata": {},
   "outputs": [],
   "source": [
    "lossi = []\n",
    "lri = []\n",
    "stepi = []"
   ]
  },
  {
   "cell_type": "code",
   "execution_count": 266,
   "id": "e9516967",
   "metadata": {},
   "outputs": [
    {
     "name": "stdout",
     "output_type": "stream",
     "text": [
      "loss.item()=2.4567337036132812\n",
      "loss.item()=2.1912169456481934\n",
      "loss.item()=2.4038631916046143\n",
      "loss.item()=2.0585358142852783\n",
      "loss.item()=2.257931709289551\n"
     ]
    }
   ],
   "source": [
    "# with mini-batches\n",
    "# with learning rates\n",
    "\n",
    "for i in range(50000):\n",
    "    indices = torch.randint(0, X.shape[0], (batch_size,), generator=g)\n",
    "    emb = C[X[indices]] # (batch_size, 3, 2)\n",
    "    h = torch.tanh(emb.view(-1, 30) @ W1 + b1) # (32, 100)\n",
    "    logits = h @ W2 + b2 # (32, 27)\n",
    "    loss = F.cross_entropy(logits, Y[indices]) # softmax + NLL\n",
    "    \n",
    "    if i % 10000 == 0:\n",
    "        print(f'{loss.item()=}')\n",
    "    # backward pass\n",
    "    for p in [C, W1, b1, W2, b2]:\n",
    "        p.grad = None\n",
    "\n",
    "    loss.backward()\n",
    "    lr = 0.01\n",
    "    with torch.no_grad():\n",
    "        for p in parameters:\n",
    "            p -= lr * p.grad\n",
    "    \n",
    "    # track stats\n",
    "    lossi.append(loss.log10().item())\n",
    "    lri.append(lr)\n",
    "    stepi.append(i)\n",
    "\n"
   ]
  },
  {
   "cell_type": "code",
   "execution_count": 267,
   "id": "71ac6111",
   "metadata": {},
   "outputs": [
    {
     "data": {
      "text/plain": [
       "[<matplotlib.lines.Line2D at 0x129799420>]"
      ]
     },
     "execution_count": 267,
     "metadata": {},
     "output_type": "execute_result"
    },
    {
     "data": {
      "image/png": "[encoded data removed]",
      "text/plain": [
       "<Figure size 640x480 with 1 Axes>"
      ]
     },
     "metadata": {},
     "output_type": "display_data"
    }
   ],
   "source": [
    "plt.plot(stepi, lossi)"
   ]
  },
  {
   "cell_type": "code",
   "execution_count": null,
   "id": "8f23df39",
   "metadata": {},
   "outputs": [
    {
     "ename": "RuntimeError",
     "evalue": "mat1 and mat2 shapes cannot be multiplied (912900x6 and 30x200)",
     "output_type": "error",
     "traceback": [
      "\u001b[0;31m---------------------------------------------------------------------------\u001b[0m",
      "\u001b[0;31mRuntimeError\u001b[0m                              Traceback (most recent call last)",
      "Cell \u001b[0;32mIn[268], line 10\u001b[0m\n\u001b[1;32m      7\u001b[0m     \u001b[38;5;28mprint\u001b[39m(\u001b[38;5;124mf\u001b[39m\u001b[38;5;124m'\u001b[39m\u001b[38;5;124mloss = \u001b[39m\u001b[38;5;132;01m{\u001b[39;00mloss\u001b[38;5;241m.\u001b[39mitem()\u001b[38;5;132;01m}\u001b[39;00m\u001b[38;5;124m'\u001b[39m) \u001b[38;5;66;03m# 2.3 already better than bigram model\u001b[39;00m\n\u001b[1;32m      9\u001b[0m \u001b[38;5;66;03m#calc_loss(X, Y)\u001b[39;00m\n\u001b[0;32m---> 10\u001b[0m \u001b[43mcalc_loss\u001b[49m\u001b[43m(\u001b[49m\u001b[43mXtr\u001b[49m\u001b[43m,\u001b[49m\u001b[43m \u001b[49m\u001b[43mYtr\u001b[49m\u001b[43m)\u001b[49m\n\u001b[1;32m     11\u001b[0m calc_loss(Xdev, Ydev)\n\u001b[1;32m     12\u001b[0m calc_loss(Xte, Yte)\n",
      "Cell \u001b[0;32mIn[268], line 4\u001b[0m, in \u001b[0;36mcalc_loss\u001b[0;34m(Xi, Yi)\u001b[0m\n\u001b[1;32m      2\u001b[0m \u001b[38;5;28;01mdef\u001b[39;00m\u001b[38;5;250m \u001b[39m\u001b[38;5;21mcalc_loss\u001b[39m(Xi, Yi):\n\u001b[1;32m      3\u001b[0m     emb \u001b[38;5;241m=\u001b[39m C[Xi] \u001b[38;5;66;03m# (batch_size, 3, 2)\u001b[39;00m\n\u001b[0;32m----> 4\u001b[0m     h \u001b[38;5;241m=\u001b[39m torch\u001b[38;5;241m.\u001b[39mtanh(\u001b[43memb\u001b[49m\u001b[38;5;241;43m.\u001b[39;49m\u001b[43mview\u001b[49m\u001b[43m(\u001b[49m\u001b[38;5;241;43m-\u001b[39;49m\u001b[38;5;241;43m1\u001b[39;49m\u001b[43m,\u001b[49m\u001b[43m \u001b[49m\u001b[38;5;241;43m6\u001b[39;49m\u001b[43m)\u001b[49m\u001b[43m \u001b[49m\u001b[38;5;241;43m@\u001b[39;49m\u001b[43m \u001b[49m\u001b[43mW1\u001b[49m \u001b[38;5;241m+\u001b[39m b1) \u001b[38;5;66;03m# (32, 100)\u001b[39;00m\n\u001b[1;32m      5\u001b[0m     logits \u001b[38;5;241m=\u001b[39m h \u001b[38;5;241m@\u001b[39m W2 \u001b[38;5;241m+\u001b[39m b2 \u001b[38;5;66;03m# (32, 27)\u001b[39;00m\n\u001b[1;32m      6\u001b[0m     loss \u001b[38;5;241m=\u001b[39m F\u001b[38;5;241m.\u001b[39mcross_entropy(logits, Yi) \u001b[38;5;66;03m# softmax + NLL\u001b[39;00m\n",
      "\u001b[0;31mRuntimeError\u001b[0m: mat1 and mat2 shapes cannot be multiplied (912900x6 and 30x200)"
     ]
    }
   ],
   "source": [
    "# real loss\n",
    "def calc_loss(Xi, Yi):\n",
    "    emb = C[Xi] # (batch_size, 3, 2)\n",
    "    h = torch.tanh(emb.view(-1, 6) @ W1 + b1) # (32, 100)\n",
    "    logits = h @ W2 + b2 # (32, 27)\n",
    "    loss = F.cross_entropy(logits, Yi) # softmax + NLL\n",
    "    print(f'loss = {loss.item()}') # 2.3 already better than bigram model\n",
    "\n",
    "#calc_loss(X, Y)"
   ]
  },
  {
   "cell_type": "code",
   "execution_count": 217,
   "id": "56bffffd",
   "metadata": {},
   "outputs": [
    {
     "name": "stdout",
     "output_type": "stream",
     "text": [
      "torch.Size([182580, 3]) torch.Size([182580])\n",
      "torch.Size([22767, 3]) torch.Size([22767])\n",
      "torch.Size([22799, 3]) torch.Size([22799])\n"
     ]
    }
   ],
   "source": [
    "# split into train/val/test\n",
    "# build the dataset\n",
    "block_size = 3 # context length: how many characters do we take to predict the next one?\n",
    "\n",
    "def build_dataset(words):  \n",
    "  X, Y = [], []\n",
    "  for w in words:\n",
    "\n",
    "    #print(w)\n",
    "    context = [0] * block_size\n",
    "    for ch in w + '.':\n",
    "      ix = stoi[ch]\n",
    "      X.append(context)\n",
    "      Y.append(ix)\n",
    "      #print(''.join(itos[i] for i in context), '--->', itos[ix])\n",
    "      context = context[1:] + [ix] # crop and append\n",
    "\n",
    "  X = torch.tensor(X)\n",
    "  Y = torch.tensor(Y)\n",
    "  print(X.shape, Y.shape)\n",
    "  return X, Y\n",
    "\n",
    "import random\n",
    "random.seed(42)\n",
    "random.shuffle(words)\n",
    "n1 = int(0.8*len(words))\n",
    "n2 = int(0.9*len(words))\n",
    "\n",
    "Xtr, Ytr = build_dataset(words[:n1])\n",
    "Xdev, Ydev = build_dataset(words[n1:n2])\n",
    "Xte, Yte = build_dataset(words[n2:])"
   ]
  },
  {
   "cell_type": "code",
   "execution_count": 218,
   "id": "e9ed4048",
   "metadata": {},
   "outputs": [
    {
     "data": {
      "text/plain": [
       "(torch.Size([182580, 3]), torch.Size([182580]))"
      ]
     },
     "execution_count": 218,
     "metadata": {},
     "output_type": "execute_result"
    }
   ],
   "source": [
    "Xtr.shape, Ytr.shape"
   ]
  },
  {
   "cell_type": "code",
   "execution_count": 237,
   "id": "12e176a6",
   "metadata": {},
   "outputs": [
    {
     "name": "stdout",
     "output_type": "stream",
     "text": [
      "loss.item()=2.2699785232543945\n",
      "loss.item()=2.4324028491973877\n",
      "loss.item()=2.3797402381896973\n",
      "loss.item()=2.2228283882141113\n",
      "loss.item()=2.366102695465088\n",
      "loss.item()=2.2114617824554443\n",
      "loss.item()=2.025968313217163\n",
      "loss.item()=2.2997522354125977\n",
      "loss.item()=2.4074697494506836\n",
      "loss.item()=2.046900749206543\n"
     ]
    }
   ],
   "source": [
    "\n",
    "for i in range(10000):\n",
    "    indices = torch.randint(0, Xtr.shape[0], (batch_size,), generator=g)\n",
    "    emb = C[Xtr[indices]] # (batch_size, 3, 2)\n",
    "    h = torch.tanh(emb.view(-1, 6) @ W1 + b1) # (32, 100)\n",
    "    logits = h @ W2 + b2 # (32, 27)\n",
    "    loss = F.cross_entropy(logits, Ytr[indices]) # softmax + NLL\n",
    "    \n",
    "    if i % 1000 == 0:\n",
    "        print(f'{loss.item()=}')\n",
    "    # backward pass\n",
    "    for p in [C, W1, b1, W2, b2]:\n",
    "        p.grad = None\n",
    "\n",
    "    loss.backward()\n",
    "    lr = 0.01\n",
    "    with torch.no_grad():\n",
    "        for p in parameters:\n",
    "            p -= lr * p.grad"
   ]
  },
  {
   "cell_type": "code",
   "execution_count": 238,
   "id": "371f2e7e",
   "metadata": {},
   "outputs": [
    {
     "name": "stdout",
     "output_type": "stream",
     "text": [
      "loss = 2.282076835632324\n",
      "loss = 2.292693614959717\n",
      "loss = 2.2929234504699707\n"
     ]
    }
   ],
   "source": [
    "calc_loss(Xtr, Ytr)\n",
    "calc_loss(Xdev, Ydev)\n",
    "calc_loss(Xte, Yte)"
   ]
  },
  {
   "cell_type": "code",
   "execution_count": 239,
   "id": "c6453623",
   "metadata": {},
   "outputs": [
    {
     "data": {
      "image/png": "[encoded data removed]",
      "text/plain": [
       "<Figure size 800x800 with 1 Axes>"
      ]
     },
     "metadata": {},
     "output_type": "display_data"
    }
   ],
   "source": [
    "# visualize dimensions 0 and 1 of the embedding matrix C for all characters\n",
    "plt.figure(figsize=(8,8))\n",
    "plt.scatter(C[:,0].data, C[:,1].data, s=200)\n",
    "for i in range(C.shape[0]):\n",
    "    plt.text(C[i,0].item(), C[i,1].item(), itos[i], ha=\"center\", va=\"center\", color='white')\n",
    "plt.grid('minor')"
   ]
  },
  {
   "cell_type": "code",
   "execution_count": 269,
   "id": "bb945f34",
   "metadata": {},
   "outputs": [
    {
     "name": "stdout",
     "output_type": "stream",
     "text": [
      "carmah.\n",
      "amoriq.\n",
      "khiwmyn.\n",
      "jehty.\n",
      "skandene.\n",
      "mahnen.\n",
      "amerynci.\n",
      "aqei.\n",
      "nelonia.\n",
      "chaiir.\n",
      "kaleigh.\n",
      "ham.\n",
      "join.\n",
      "quintis.\n",
      "lilea.\n",
      "jadiquinterogdiarynix.\n",
      "kaeunitsan.\n",
      "edde.\n",
      "oia.\n",
      "gilee.\n"
     ]
    }
   ],
   "source": [
    "# sample from the model\n",
    "g = torch.Generator().manual_seed(2147483647 + 10)\n",
    "\n",
    "for _ in range(20):\n",
    "    \n",
    "    out = []\n",
    "    context = [0] * block_size # initialize with all ...\n",
    "    while True:\n",
    "      emb = C[torch.tensor([context])] # (1,block_size,d)\n",
    "      h = torch.tanh(emb.view(1, -1) @ W1 + b1)\n",
    "      logits = h @ W2 + b2\n",
    "      probs = F.softmax(logits, dim=1)\n",
    "      ix = torch.multinomial(probs, num_samples=1, generator=g).item()\n",
    "      context = context[1:] + [ix]\n",
    "      out.append(ix)\n",
    "      if ix == 0:\n",
    "        break\n",
    "    \n",
    "    print(''.join(itos[i] for i in out))"
   ]
  },
  {
   "cell_type": "code",
   "execution_count": null,
   "id": "380fede7",
   "metadata": {},
   "outputs": [],
   "source": []
  }
 ],
 "metadata": {
  "kernelspec": {
   "display_name": "ai-experiments",
   "language": "python",
   "name": "python3"
  },
  "language_info": {
   "codemirror_mode": {
    "name": "ipython",
    "version": 3
   },
   "file_extension": ".py",
   "mimetype": "text/x-python",
   "name": "python",
   "nbconvert_exporter": "python",
   "pygments_lexer": "ipython3",
   "version": "3.10.0"
  }
 },
 "nbformat": 4,
 "nbformat_minor": 5
}
